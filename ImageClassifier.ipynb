{
  "nbformat": 4,
  "nbformat_minor": 0,
  "metadata": {
    "colab": {
      "provenance": []
    },
    "kernelspec": {
      "name": "python3",
      "display_name": "Python 3"
    },
    "language_info": {
      "name": "python"
    }
  },
  "cells": [
    {
      "cell_type": "markdown",
      "source": [
        "## Classify Images using Kerasand Tensorflow"
      ],
      "metadata": {
        "id": "lPRLRKiu5DKH"
      }
    },
    {
      "cell_type": "code",
      "source": [
        "import tensorflow as tf\n",
        "from tensorflow.keras import datasets, layers, models\n",
        "import matplotlib.pyplot as plt\n",
        "import os"
      ],
      "metadata": {
        "id": "HebHFM-w5lfw"
      },
      "execution_count": 14,
      "outputs": []
    },
    {
      "cell_type": "markdown",
      "source": [
        "### Load and preprocess data"
      ],
      "metadata": {
        "id": "X-6r0oPX5qUk"
      }
    },
    {
      "cell_type": "code",
      "source": [
        "(train_images, train_labels), (test_images, test_labels) = datasets.cifar10.load_data()\n",
        "train_images, test_images =  train_images/255.0, test_images/255.0"
      ],
      "metadata": {
        "id": "5Somx0JE5pad"
      },
      "execution_count": 16,
      "outputs": []
    },
    {
      "cell_type": "code",
      "source": [
        "class_names = [\n",
        "    \"airplane\",\n",
        "    \"automobile\",\n",
        "    \"bird\",\n",
        "    \"cat\",\n",
        "    \"dog\",\n",
        "    \"deer\",\n",
        "    \"frog\",\n",
        "    \"horse\",\n",
        "    \"ship\",\n",
        "    \"truck\",\n",
        "]\n",
        "\n",
        "\n",
        "model_path = \"cifar19_cnn_model.h5\"\n",
        "if os.path.exists(model_path):\n",
        "    model = tf.keras.models.load_model(model_path)\n",
        "    print(\"Model loaded\")\n",
        "else:\n",
        "  model = models.Sequential(\n",
        "      [\n",
        "          layers.Conv2D(32,(3,3), activation = \"relu\", input_shape = (32,32,3)),\n",
        "          layers.MaxPooling2D((2,2)),\n",
        "          layers.Conv2D(64,(3,3), activation = \"relu\"),\n",
        "          layers.MaxPooling2D((2,2)),\n",
        "          layers.Conv2D(64,(3,3), activation = \"relu\"),\n",
        "          layers.Flatten(),\n",
        "          layers.Dense(64, activation=\"relu\"),\n",
        "          layers.Dense(10),\n",
        "      ]\n",
        "  )\n",
        "\n",
        "  model.compile(\n",
        "      optimizer = \"SGD\",\n",
        "      loss = tf.keras.losses.SparseCategoricalCrossentropy(from_logits=True),\n",
        "      metrics = [\"accuracy\"],\n",
        "\n",
        "  )\n",
        "\n",
        "  model.fit(\n",
        "      train_images,\n",
        "      train_labels,\n",
        "      epochs = 50,\n",
        "      validation_data = (test_images, test_labels),\n",
        "\n",
        "  )\n",
        "\n",
        "  model.save(model_path)\n",
        "  print(\"Model saved\")\n",
        "\n"
      ],
      "metadata": {
        "colab": {
          "base_uri": "https://localhost:8080/"
        },
        "id": "HKPqExJf67SC",
        "outputId": "0d09498a-c3b5-4060-af2e-b291167e6379"
      },
      "execution_count": 18,
      "outputs": [
        {
          "output_type": "stream",
          "name": "stderr",
          "text": [
            "WARNING:absl:Compiled the loaded model, but the compiled metrics have yet to be built. `model.compile_metrics` will be empty until you train or evaluate the model.\n"
          ]
        },
        {
          "output_type": "stream",
          "name": "stdout",
          "text": [
            "Model loaded\n"
          ]
        }
      ]
    },
    {
      "cell_type": "code",
      "source": [
        "def classify_image(image):\n",
        "  image_array = tf.expand_dims(image, 0)\n",
        "  predictions = model.predict(image_array)\n",
        "  predited_class = tf.argmax(predictions[0]).numpy()\n",
        "  return class_names[predictions]"
      ],
      "metadata": {
        "id": "I-yvWrY87sK6"
      },
      "execution_count": 19,
      "outputs": []
    },
    {
      "cell_type": "code",
      "source": [
        "def show_predicted_image(image, true_label):\n",
        "  predicted_label = classify_image(image)\n",
        "  plt.figure()\n",
        "  plt.imshow(image)\n",
        "  plt.title(f\"Predicted: {predicted_label}\\n True: {class_names[true_label]}\")\n",
        "  plt.axis(\"off\")\n",
        "  plt.show()"
      ],
      "metadata": {
        "id": "xF-dET8o8YWa"
      },
      "execution_count": 20,
      "outputs": []
    },
    {
      "cell_type": "code",
      "source": [
        "def classify_image(image):\n",
        "  image_array = tf.expand_dims(image, 0)\n",
        "  predictions = model.predict(image_array)\n",
        "  predicted_class = tf.argmax(predictions[0]).numpy()\n",
        "  return predicted_class"
      ],
      "metadata": {
        "id": "qe3Tv1Dj_NKb"
      },
      "execution_count": 21,
      "outputs": []
    },
    {
      "cell_type": "code",
      "source": [
        "class_pred = classify_image(test_images[6])\n",
        "show_predicted_image(test_images[6], class_pred)"
      ],
      "metadata": {
        "colab": {
          "base_uri": "https://localhost:8080/",
          "height": 484
        },
        "id": "smbtwUT-9DFG",
        "outputId": "3a0fa608-9ef8-4a88-8f06-f3ad53fe0f42"
      },
      "execution_count": 22,
      "outputs": [
        {
          "output_type": "stream",
          "name": "stdout",
          "text": [
            "\u001b[1m1/1\u001b[0m \u001b[32m━━━━━━━━━━━━━━━━━━━━\u001b[0m\u001b[37m\u001b[0m \u001b[1m0s\u001b[0m 116ms/step\n",
            "\u001b[1m1/1\u001b[0m \u001b[32m━━━━━━━━━━━━━━━━━━━━\u001b[0m\u001b[37m\u001b[0m \u001b[1m0s\u001b[0m 43ms/step\n"
          ]
        },
        {
          "output_type": "display_data",
          "data": {
            "text/plain": [
              "<Figure size 640x480 with 1 Axes>"
            ],
            "image/png": "[encoded data removed]"
          },
          "metadata": {}
        }
      ]
    },
    {
      "cell_type": "code",
      "source": [],
      "metadata": {
        "id": "iZxhclSj9gMK"
      },
      "execution_count": null,
      "outputs": []
    }
  ]
}